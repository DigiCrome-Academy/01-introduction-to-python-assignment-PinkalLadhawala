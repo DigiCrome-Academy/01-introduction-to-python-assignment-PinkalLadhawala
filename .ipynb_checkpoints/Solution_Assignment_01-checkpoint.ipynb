{
 "cells": [
  {
   "cell_type": "code",
   "execution_count": 1,
   "id": "f9b23c69-bef5-4c8f-b814-c23baf264e4c",
   "metadata": {},
   "outputs": [
    {
     "name": "stdout",
     "output_type": "stream",
     "text": [
      "Welcome to Python for Data Science\n"
     ]
    }
   ],
   "source": [
    "print(\"Welcome to Python for Data Science\")"
   ]
  },
  {
   "cell_type": "code",
   "execution_count": 2,
   "id": "2dfcce2b-9991-41cf-af48-9afe7e4e7cf8",
   "metadata": {},
   "outputs": [
    {
     "name": "stdout",
     "output_type": "stream",
     "text": [
      " Hi, I'm Pinkal Ladhawala, I love Python for data science, and I have 11 years of experience\n"
     ]
    }
   ],
   "source": [
    "#Exercise 2.1\n",
    "your_name = \"Pinkal Ladhawala\"\n",
    "favourite_tool = \"Python\"\n",
    "years_experience = 11\n",
    "\n",
    "print(f\" Hi, I'm {your_name}, I love {favourite_tool} for data science, and I have {years_experience} years of experience\")\n",
    "\n"
   ]
  },
  {
   "cell_type": "code",
   "execution_count": null,
   "id": "10befd6e-ffd6-40dc-ac8f-c420609c84aa",
   "metadata": {},
   "outputs": [],
   "source": []
  },
  {
   "cell_type": "code",
   "execution_count": 3,
   "id": "761a8f3f-74b9-430a-ae2a-89bd7b4e1b91",
   "metadata": {},
   "outputs": [
    {
     "name": "stdout",
     "output_type": "stream",
     "text": [
      "Dataset :  Sales Data\n",
      "Number of records :  1500\n",
      "Missing Values :  45\n",
      "Accuracy :  94.5\n"
     ]
    }
   ],
   "source": [
    "#Exercise 2.2\n",
    "dataset_name = \"Sales Data\"\n",
    "total_records = 1500\n",
    "missing_values = 45\n",
    "accuracy = 94.5\n",
    "\n",
    "print(\"Dataset : \",dataset_name)\n",
    "print(\"Number of records : \",total_records)\n",
    "print(\"Missing Values : \",missing_values)\n",
    "print(\"Accuracy : \",accuracy)"
   ]
  },
  {
   "cell_type": "code",
   "execution_count": null,
   "id": "7ec851a7-3022-44cb-912b-04dd45fc2f1c",
   "metadata": {},
   "outputs": [],
   "source": [
    " # Exercise 3.1\n",
    "\n",
    "\r\n",
    "def collect_data():\r\n",
    "    \"\"\"Collects and validates user input\"\"\"\r\n",
    "    records = []  # List to store multiple records\r\n",
    "\r\n",
    "    while True:\r\n",
    "        user_data = {}  # Dictionary to store a single record\r\n",
    "        user_data[\"Name\"] = input(\"Enter your na                  user_data[\"Age\"] = int(input(\"Enter your age: \")           user_data[\"Annual Income\"] = float(input(\"Enter your annual income: \"            user_data[\"Years of Education\"] = int(input(\"Enter your years of edu        ecord\r\n",
    "\r\n",
    "        records.append(user_data)  # Add record to the list\r\n",
    "\r\n",
    "        # Ask the user if they want to continue\r\n",
    "        proceed = input(\"Do you want to add another record? (yes/no): \").strip().lower()\r\n",
    "        if proceed != \"yess not want to continuern the collected records\r\n",
    "\r\n",
    "# Collect data\r\n",
    "data_records = collect_data()\r\n",
    "\r\n",
    "# Print all records\r\n",
    "print(\"\\n--- All Collected Data ---\")\r\n",
    "for index, record in enumerate(data_records, start=1):\r\n",
    "    print(f\"\\nRecord {index}:\")\r\n",
    "    for key, value in record.items():\r\n",
    "        if key == \"Annual Income\":\r\n",
    "            print(f\"{key}: ${value:,.2f}\")  # Format income for readability\r\n",
    "        else:\r\n",
    "            print(f\"{key}: {value}\")"
   ]
  }
 ],
 "metadata": {
  "kernelspec": {
   "display_name": "Python 3 (ipykernel)",
   "language": "python",
   "name": "python3"
  },
  "language_info": {
   "codemirror_mode": {
    "name": "ipython",
    "version": 3
   },
   "file_extension": ".py",
   "mimetype": "text/x-python",
   "name": "python",
   "nbconvert_exporter": "python",
   "pygments_lexer": "ipython3",
   "version": "3.12.0"
  }
 },
 "nbformat": 4,
 "nbformat_minor": 5
}
